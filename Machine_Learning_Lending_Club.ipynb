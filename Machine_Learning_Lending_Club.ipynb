{
 "cells": [
  {
   "cell_type": "code",
   "execution_count": 55,
   "metadata": {
    "collapsed": true
   },
   "outputs": [],
   "source": [
    "import pandas as pd\n",
    "import numpy as np"
   ]
  },
  {
   "cell_type": "code",
   "execution_count": 56,
   "metadata": {
    "collapsed": true
   },
   "outputs": [],
   "source": [
    "loan_data = pd.read_csv(\"Data/loan_data_2016Q4.csv\")"
   ]
  },
  {
   "cell_type": "code",
   "execution_count": 57,
   "metadata": {
    "collapsed": false
   },
   "outputs": [],
   "source": [
    "target = 'int_rate'\n",
    "dependentVariables = ['loan_amnt','term','emp_length','home_ownership','annual_inc',\n",
    "                      'verification_status','purpose', 'dti', 'fico_range_low','fico_range_high']"
   ]
  },
  {
   "cell_type": "code",
   "execution_count": 58,
   "metadata": {
    "collapsed": false
   },
   "outputs": [],
   "source": [
    " # SPLIT DATASET INTO TRAIN AND TEST\n",
    "\n",
    "msk = np.random.rand(len(loan_data)) < 0.8\n",
    "\n",
    "trainData = loan_data[msk]\n",
    "\n",
    "testData = loan_data[~msk]\n",
    "\n",
    "X_train = trainData[dependentVariables]\n",
    "X_test = testData[dependentVariables]\n",
    "y_train = trainData[target]\n",
    "y_test = testData[target]\n",
    "\n"
   ]
  },
  {
   "cell_type": "code",
   "execution_count": 59,
   "metadata": {
    "collapsed": false
   },
   "outputs": [],
   "source": [
    "from sklearn.feature_selection import RFE\n",
    "from sklearn import linear_model\n",
    "def feature_selection_rfe(X_train, y_train):\n",
    "    lm = linear_model.LinearRegression()\n",
    "\n",
    "    rfe = RFE(lm, 5)\n",
    "\n",
    "    rfe = rfe.fit(X_train, y_train)\n",
    "\n",
    "    # summarize the selection of the attributes\n",
    "    print(rfe.support_)\n",
    "    print(rfe.ranking_)"
   ]
  },
  {
   "cell_type": "code",
   "execution_count": 60,
   "metadata": {
    "collapsed": true
   },
   "outputs": [],
   "source": [
    "from sklearn.svm import SVR\n",
    "from sklearn.feature_selection import RFE\n",
    "\n",
    "def feature_selection_svr_rfe(X_train, y_train):\n",
    "    estimator = SVR(kernel=\"linear\")\n",
    "    selector = RFE(estimator, 5, step=1)\n",
    "    selector = selector.fit(X, y)\n",
    "    print(selector.support_) \n",
    "    print(selector.ranking_)"
   ]
  },
  {
   "cell_type": "code",
   "execution_count": 61,
   "metadata": {
    "collapsed": false
   },
   "outputs": [
    {
     "name": "stdout",
     "output_type": "stream",
     "text": [
      "[False  True False  True False  True  True  True False False]\n",
      "[5 1 3 1 6 1 1 1 2 4]\n"
     ]
    }
   ],
   "source": [
    "feature_selection_rfe(X_train, y_train)\n",
    "# ['loan_amnt','term','emp_length','home_ownership','annual_inc',\n",
    "#                       'verification_status','purpose', 'dti', 'fico_range_low','fico_range_high']"
   ]
  },
  {
   "cell_type": "code",
   "execution_count": 62,
   "metadata": {
    "collapsed": false
   },
   "outputs": [],
   "source": [
    "dependentVariables = ['term','home_ownership', 'verification_status','purpose', 'dti']\n",
    "\n",
    "X_train_1 = X_train[dependentVariables]\n",
    "X_test_1 = X_test[dependentVariables]"
   ]
  },
  {
   "cell_type": "code",
   "execution_count": 63,
   "metadata": {
    "collapsed": false
   },
   "outputs": [],
   "source": [
    "from sklearn import linear_model\n",
    "from sklearn.metrics import *\n",
    "from sklearn import metrics\n",
    "def Linear_Regression(X_train,X_test, y_train, y_test):\n",
    "\n",
    "    print(\"______________________START OF LINEAR REGRESSION____________________\")\n",
    "\n",
    "    lm = linear_model.LinearRegression()\n",
    "    lm.fit(X_train, y_train)\n",
    "\n",
    "\n",
    "    train_pred = lm.predict(X_train)\n",
    "\n",
    "    # R-squared score of this model\n",
    "\n",
    "    rsq = r2_score(y_train, train_pred)\n",
    "\n",
    "    pred = lm.predict(X_test)\n",
    "\n",
    "    # MEAN ABSOLUTE ERROR\n",
    "    mean_ae = mean_absolute_error(y_test, pred)\n",
    "\n",
    "    # MEAN SQUARED ERROR\n",
    "    mean_sqe = mean_squared_error(y_test, pred)\n",
    "\n",
    "    # MEDIAN ABSOLUTE ERROR\n",
    "    median_ae = median_absolute_error(y_test, pred)\n",
    "\n",
    "    print(\"R-squared error : \" + str(rsq) )\n",
    "\n",
    "    print(\"MEAN ABSOLUTE ERROR  : \" + str(mean_ae) )\n",
    "\n",
    "    print(\"MEAN SQUARED ERROR : \" + str(mean_sqe) )\n",
    "\n",
    "    print(\"MEDIAN ABSOLUTE ERROR : \" + str(median_ae) )\n",
    "\n",
    "    # Coefficient and Intercept\n",
    "    coefi = lm.coef_\n",
    "\n",
    "    intercept = lm.intercept_\n",
    "\n",
    "    print(\"Coefficients are : \" + str(coefi) + \" intercept is : \" + str(intercept))\n",
    "\n",
    "\n",
    "        #     RMSE\n",
    "    rmse = mean_sqe**0.5\n",
    "\n",
    "    #     rmse2 = (np.sqrt(np.mean((y_test-pred)**2)))\n",
    "\n",
    "    print(\"RMSE : \" + str(rmse))\n",
    "\n",
    "\n",
    "\n",
    "    print(\"______________________END OF LINEAR REGRESSION____________________\")\n"
   ]
  },
  {
   "cell_type": "code",
   "execution_count": 64,
   "metadata": {
    "collapsed": true
   },
   "outputs": [],
   "source": [
    "from sklearn.neural_network import MLPRegressor\n",
    "def NeuralNetworkRegressor_(X_train,X_test, y_train, y_test):\n",
    "\n",
    "    print(\"______________________START OF NEURAL NETWORK REGRESSOR____________________\")\n",
    "\n",
    "    reg = MLPRegressor(hidden_layer_sizes=(100, ), activation='relu', solver='adam',\n",
    "     alpha=0.0001, batch_size='auto', learning_rate='constant', learning_rate_init=0.001,\n",
    "      power_t=0.5, max_iter=200, shuffle=True, random_state=None, tol=0.0001, verbose=False,\n",
    "       warm_start=False, momentum=0.9, nesterovs_momentum=True, early_stopping=False,\n",
    "        validation_fraction=0.1, beta_1=0.9, beta_2=0.999, epsilon=1e-08)\n",
    "\n",
    "    reg.fit(X_train, y_train)\n",
    "\n",
    "\n",
    "\n",
    "\n",
    "    pred = reg.predict(X_test)\n",
    "\n",
    "    train_pred = reg.predict(X_train)\n",
    "\n",
    "    # R-squared score of this model\n",
    "\n",
    "    rsq = r2_score(y_train, train_pred)\n",
    "\n",
    "    # MEAN ABSOLUTE ERROR\n",
    "    mean_ae = mean_absolute_error(y_test, pred)\n",
    "\n",
    "    # MEAN SQUARED ERROR\n",
    "    mean_sqe = mean_squared_error(y_test, pred)\n",
    "\n",
    "    # MEDIAN ABSOLUTE ERROR\n",
    "    median_ae = median_absolute_error(y_test, pred)\n",
    "\n",
    "    print(\"R-squared error : \" + str(rsq) )\n",
    "\n",
    "    print(\"MEAN ABSOLUTE ERROR  : \" + str(mean_ae) )\n",
    "\n",
    "    print(\"MEAN SQUARED ERROR : \" + str(mean_sqe) )\n",
    "\n",
    "    print(\"MEDIAN ABSOLUTE ERROR : \" + str(median_ae) )\n",
    "\n",
    "\n",
    "            #     RMSE\n",
    "    rmse = mean_sqe**0.5\n",
    "\n",
    "    #     rmse2 = (np.sqrt(np.mean((y_test-pred)**2)))\n",
    "\n",
    "    print(\"RMSE : \" + str(rmse))\n",
    "\n",
    "\n",
    "\n",
    "    print(\"______________________END OF Neural Network Regressor____________________\")\n"
   ]
  },
  {
   "cell_type": "code",
   "execution_count": 65,
   "metadata": {
    "collapsed": true
   },
   "outputs": [],
   "source": [
    "from sklearn.ensemble import RandomForestRegressor\n",
    "from sklearn.metrics import *\n",
    "def RandomForestRegressor_(X_train,X_test, y_train, y_test):\n",
    "\n",
    "    print(\"______________________START OF RANDOM FOREST REGRESSOR____________________\")\n",
    "\n",
    "    regressor = RandomForestRegressor(n_estimators=150, min_samples_split=2)\n",
    "    regressor.fit(X_train, y_train)\n",
    "\n",
    "    # result = pd.crosstab(y_test, X_test, rownames=['actual'], colnames=['preds'])\n",
    "\n",
    "    pred = regressor.predict(X_test)\n",
    "\n",
    "\n",
    "    # print (accuracy_score(y_test, pred))\n",
    "\n",
    "    # EVALUATION\n",
    "    # r2 = r2_score(test.alcohol, rf.predict(test[cols]))\n",
    "    # mse = np.mean((test.alcohol - rf.predict(test[cols]))**2)\n",
    "\n",
    "    train_pred = regressor.predict(X_train)\n",
    "\n",
    "    rsq = r2_score(y_train, train_pred)\n",
    "\n",
    "    # MEAN ABSOLUTE ERROR\n",
    "    mean_ae = mean_absolute_error(y_test, pred)\n",
    "\n",
    "    # MEAN SQUARED ERROR\n",
    "    mean_sqe = mean_squared_error(y_test, pred)\n",
    "\n",
    "    # MEDIAN ABSOLUTE ERROR\n",
    "    median_ae = median_absolute_error(y_test, pred)\n",
    "\n",
    "    print(\"R-squared error : \" + str(rsq) )\n",
    "\n",
    "    print(\"MEAN ABSOLUTE ERROR  : \" + str(mean_ae) )\n",
    "\n",
    "    print(\"MEAN SQUARED ERROR : \" + str(mean_sqe) )\n",
    "\n",
    "    print(\"MEDIAN ABSOLUTE ERROR : \" + str(median_ae) )\n",
    "\n",
    "            #     RMSE\n",
    "    rmse = mean_sqe**0.5\n",
    "\n",
    "    #     rmse2 = (np.sqrt(np.mean((y_test-pred)**2)))\n",
    "\n",
    "    print(\"RMSE : \" + str(rmse))\n",
    "\n",
    "    print(\"______________________END OF RANDOM FOREST REGRESSOR____________________\")"
   ]
  },
  {
   "cell_type": "code",
   "execution_count": 66,
   "metadata": {
    "collapsed": false
   },
   "outputs": [
    {
     "name": "stdout",
     "output_type": "stream",
     "text": [
      "______________________START OF LINEAR REGRESSION____________________\n",
      "R-squared error : 0.228731092225\n",
      "MEAN ABSOLUTE ERROR  : 3.36108439498\n",
      "MEAN SQUARED ERROR : 19.1222953171\n",
      "MEDIAN ABSOLUTE ERROR : 2.74460314182\n",
      "Coefficients are : [ 5.00169736  0.69722627  0.42803004  0.06530016  0.09087343] intercept is : 3.76803054876\n",
      "RMSE : 4.37290467734\n",
      "______________________END OF LINEAR REGRESSION____________________\n"
     ]
    }
   ],
   "source": [
    "# RUN Regression ALGORITHM ...... \n",
    "Linear_Regression(X_train_1,X_test_1, y_train, y_test)"
   ]
  },
  {
   "cell_type": "code",
   "execution_count": 67,
   "metadata": {
    "collapsed": false
   },
   "outputs": [
    {
     "name": "stdout",
     "output_type": "stream",
     "text": [
      "______________________START OF NEURAL NETWORK REGRESSOR____________________\n",
      "R-squared error : 0.322744670346\n",
      "MEAN ABSOLUTE ERROR  : 3.1676523962\n",
      "MEAN SQUARED ERROR : 16.9251937625\n",
      "MEDIAN ABSOLUTE ERROR : 2.57035346159\n",
      "RMSE : 4.11402403524\n",
      "______________________END OF Neural Network Regressor____________________\n"
     ]
    }
   ],
   "source": [
    "NeuralNetworkRegressor_(X_train_1,X_test_1, y_train, y_test)"
   ]
  },
  {
   "cell_type": "code",
   "execution_count": 68,
   "metadata": {
    "collapsed": false
   },
   "outputs": [
    {
     "name": "stdout",
     "output_type": "stream",
     "text": [
      "______________________START OF RANDOM FOREST REGRESSOR____________________\n",
      "R-squared error : 0.756479412791\n",
      "MEAN ABSOLUTE ERROR  : 3.64948906071\n",
      "MEAN SQUARED ERROR : 22.5706319712\n",
      "MEDIAN ABSOLUTE ERROR : 2.916275\n",
      "RMSE : 4.75085591986\n",
      "______________________END OF RANDOM FOREST REGRESSOR____________________\n"
     ]
    }
   ],
   "source": [
    "RandomForestRegressor_(X_train_1,X_test_1, y_train, y_test)"
   ]
  },
  {
   "cell_type": "code",
   "execution_count": 69,
   "metadata": {
    "collapsed": false
   },
   "outputs": [
    {
     "name": "stderr",
     "output_type": "stream",
     "text": [
      "C:\\Anaconda3\\lib\\site-packages\\pandas\\core\\indexing.py:297: SettingWithCopyWarning: \n",
      "A value is trying to be set on a copy of a slice from a DataFrame.\n",
      "Try using .loc[row_indexer,col_indexer] = value instead\n",
      "\n",
      "See the caveats in the documentation: http://pandas.pydata.org/pandas-docs/stable/indexing.html#indexing-view-versus-copy\n",
      "  self.obj[key] = _infer_fill_value(value)\n",
      "C:\\Anaconda3\\lib\\site-packages\\pandas\\core\\indexing.py:477: SettingWithCopyWarning: \n",
      "A value is trying to be set on a copy of a slice from a DataFrame.\n",
      "Try using .loc[row_indexer,col_indexer] = value instead\n",
      "\n",
      "See the caveats in the documentation: http://pandas.pydata.org/pandas-docs/stable/indexing.html#indexing-view-versus-copy\n",
      "  self.obj[item] = s\n"
     ]
    }
   ],
   "source": [
    "X_train,X_test\n",
    "\n",
    "X_train.loc[(X_train['loan_amnt'] > 0.0 ) & ( X_train['loan_amnt'] <= 1000.0 ), 'amount'] = 1\n",
    "X_train.loc[(X_train['loan_amnt'] > 1000.0 ) & ( X_train['loan_amnt'] <= 8800.0 ), 'amount'] = 2\n",
    "X_train.loc[(X_train['loan_amnt'] > 8800.0 ) & ( X_train['loan_amnt'] <= 16600.0 ), 'amount'] = 3\n",
    "X_train.loc[(X_train['loan_amnt'] > 16600.0 ) & ( X_train['loan_amnt'] <= 24400.0 ), 'amount'] = 4\n",
    "X_train.loc[(X_train['loan_amnt'] > 24400.0 ) & ( X_train['loan_amnt'] <= 32200.0 ), 'amount'] = 5\n",
    "X_train.loc[(X_train['loan_amnt'] > 32200.0 ) & ( X_train['loan_amnt'] <= 40000.0 ), 'amount'] = 6\n",
    "\n",
    "X_train.loc[(X_train['annual_inc'] > 0.0 ) & ( X_train['annual_inc'] <= 5000.0 ), 'inc'] = 1\n",
    "X_train.loc[(X_train['annual_inc'] > 5000.0 ) & ( X_train['annual_inc'] <= 50000.0 ), 'inc'] = 2\n",
    "X_train.loc[(X_train['annual_inc'] > 50000.0 ) & ( X_train['annual_inc'] <= 95000.0 ), 'inc'] = 3\n",
    "X_train.loc[(X_train['annual_inc'] > 95000.0 ) & ( X_train['annual_inc'] <= 140000.0 ), 'inc'] = 4\n",
    "X_train.loc[(X_train['annual_inc'] > 140000.0 ) & ( X_train['annual_inc'] <= 185000.0 ), 'inc'] = 5\n",
    "X_train.loc[(X_train['annual_inc'] > 185000.0 ) & ( X_train['annual_inc'] <= 230000.0 ), 'inc'] = 6\n",
    "X_train.loc[(X_train['annual_inc'] > 230000.0 ) & ( X_train['annual_inc'] <= 275000.0 ), 'inc'] = 7\n",
    "X_train.loc[(X_train['annual_inc'] > 275000.0 ) & ( X_train['annual_inc'] <= 320000.0 ), 'inc'] = 8\n",
    "\n",
    "\n",
    "X_train.loc[(X_train['fico_range_low'] > 0.0 ) & ( X_train['fico_range_low'] <= 664.0 ), 'fico_low'] = 1\n",
    "X_train.loc[(X_train['fico_range_low'] > 664.0 ) & ( X_train['fico_range_low'] <= 696.5 ), 'fico_low'] = 2\n",
    "X_train.loc[(X_train['fico_range_low'] > 696.5 ) & ( X_train['fico_range_low'] <= 729.0 ), 'fico_low'] = 3\n",
    "X_train.loc[(X_train['fico_range_low'] > 729.0 ) & ( X_train['fico_range_low'] <= 761.5 ), 'fico_low'] = 4\n",
    "X_train.loc[(X_train['fico_range_low'] > 761.5 ) & ( X_train['fico_range_low'] <= 794.0 ), 'fico_low'] = 5\n",
    "X_train.loc[(X_train['fico_range_low'] > 794.0 ), 'fico_low'] = 6\n",
    "\n",
    "X_train.loc[(X_train['fico_range_high'] > 0.0 ) & ( X_train['fico_range_high'] <= 660.0 ), 'fico_high'] = 1\n",
    "X_train.loc[(X_train['fico_range_high'] > 660.0 ) & ( X_train['fico_range_high'] <= 692.5 ), 'fico_high'] = 2\n",
    "X_train.loc[(X_train['fico_range_high'] > 692.5 ) & ( X_train['fico_range_high'] <= 725.0 ), 'fico_high'] = 3\n",
    "X_train.loc[(X_train['fico_range_high'] > 725.0 ) & ( X_train['fico_range_high'] <= 757.5 ), 'fico_high'] = 4\n",
    "X_train.loc[(X_train['fico_range_high'] > 757.5 ) & ( X_train['fico_range_high'] <= 790.0 ), 'fico_high'] = 5\n",
    "X_train.loc[(X_train['fico_range_high'] > 790.0 ), 'fico_high'] = 6\n",
    "\n",
    "\n",
    "X_test.loc[(X_test['loan_amnt'] > 0.0 ) & ( X_test['loan_amnt'] <= 1000.0 ), 'amount'] = 1\n",
    "X_test.loc[(X_test['loan_amnt'] > 1000.0 ) & ( X_test['loan_amnt'] <= 8800.0 ), 'amount'] = 2\n",
    "X_test.loc[(X_test['loan_amnt'] > 8800.0 ) & ( X_test['loan_amnt'] <= 16600.0 ), 'amount'] = 3\n",
    "X_test.loc[(X_test['loan_amnt'] > 16600.0 ) & ( X_test['loan_amnt'] <= 24400.0 ), 'amount'] = 4\n",
    "X_test.loc[(X_test['loan_amnt'] > 24400.0 ) & ( X_test['loan_amnt'] <= 32200.0 ), 'amount'] = 5\n",
    "X_test.loc[(X_test['loan_amnt'] > 32200.0 ) & ( X_test['loan_amnt'] <= 40000.0 ), 'amount'] = 6\n",
    "\n",
    "X_test.loc[(X_test['annual_inc'] > 0.0 ) & ( X_test['annual_inc'] <= 5000.0 ), 'inc'] = 1\n",
    "X_test.loc[(X_test['annual_inc'] > 5000.0 ) & ( X_test['annual_inc'] <= 50000.0 ), 'inc'] = 2\n",
    "X_test.loc[(X_test['annual_inc'] > 50000.0 ) & ( X_test['annual_inc'] <= 95000.0 ), 'inc'] = 3\n",
    "X_test.loc[(X_test['annual_inc'] > 95000.0 ) & ( X_test['annual_inc'] <= 140000.0 ), 'inc'] = 4\n",
    "X_test.loc[(X_test['annual_inc'] > 140000.0 ) & ( X_test['annual_inc'] <= 185000.0 ), 'inc'] = 5\n",
    "X_test.loc[(X_test['annual_inc'] > 185000.0 ) & ( X_test['annual_inc'] <= 230000.0 ), 'inc'] = 6\n",
    "X_test.loc[(X_test['annual_inc'] > 230000.0 ) & ( X_test['annual_inc'] <= 275000.0 ), 'inc'] = 7\n",
    "X_test.loc[(X_test['annual_inc'] > 275000.0 ) & ( X_test['annual_inc'] <= 320000.0 ), 'inc'] = 8\n",
    "\n",
    "X_test.loc[(X_test['fico_range_low'] > 0.0 ) & ( X_test['fico_range_low'] <= 664.0 ), 'fico_low'] = 1\n",
    "X_test.loc[(X_test['fico_range_low'] > 664.0 ) & ( X_test['fico_range_low'] <= 696.5 ), 'fico_low'] = 2\n",
    "X_test.loc[(X_test['fico_range_low'] > 696.5 ) & ( X_test['fico_range_low'] <= 729.0 ), 'fico_low'] = 3\n",
    "X_test.loc[(X_test['fico_range_low'] > 729.0 ) & ( X_test['fico_range_low'] <= 761.5 ), 'fico_low'] = 4\n",
    "X_test.loc[(X_test['fico_range_low'] > 761.5 ) & ( X_test['fico_range_low'] <= 794.0 ), 'fico_low'] = 5\n",
    "X_test.loc[(X_test['fico_range_low'] > 794.0 ), 'fico_low'] = 6\n",
    "\n",
    "\n",
    "X_test.loc[(X_test['fico_range_high'] > 0.0 ) & ( X_test['fico_range_high'] <= 660.0 ), 'fico_high'] = 1\n",
    "X_test.loc[(X_test['fico_range_high'] > 660.0 ) & ( X_test['fico_range_high'] <= 692.5 ), 'fico_high'] = 2\n",
    "X_test.loc[(X_test['fico_range_high'] > 692.5 ) & ( X_test['fico_range_high'] <= 725.0 ), 'fico_high'] = 3\n",
    "X_test.loc[(X_test['fico_range_high'] > 725.0 ) & ( X_test['fico_range_high'] <= 757.5 ), 'fico_high'] = 4\n",
    "X_test.loc[(X_test['fico_range_high'] > 757.5 ) & ( X_test['fico_range_high'] <= 790.0 ), 'fico_high'] = 5\n",
    "X_test.loc[(X_test['fico_range_high'] > 790.0 ), 'fico_high'] = 6"
   ]
  },
  {
   "cell_type": "code",
   "execution_count": 70,
   "metadata": {
    "collapsed": false
   },
   "outputs": [],
   "source": [
    "dependentVariables = ['amount','term','emp_length','home_ownership','inc',\n",
    "                      'verification_status','purpose', 'dti', 'fico_low','fico_high']\n",
    "X_test_2 = X_test[dependentVariables]\n",
    "\n",
    "X_train_2 = X_train[dependentVariables]"
   ]
  },
  {
   "cell_type": "code",
   "execution_count": 71,
   "metadata": {
    "collapsed": false
   },
   "outputs": [
    {
     "name": "stdout",
     "output_type": "stream",
     "text": [
      "[ True  True False False  True False False False  True  True]\n",
      "[1 1 6 3 1 2 4 5 1 1]\n"
     ]
    }
   ],
   "source": [
    "feature_selection_rfe(X_train_2, y_train)"
   ]
  },
  {
   "cell_type": "code",
   "execution_count": 72,
   "metadata": {
    "collapsed": true
   },
   "outputs": [],
   "source": [
    "dependentVariables = ['amount','term','inc', 'fico_low','fico_high']\n",
    "\n",
    "X_test_3 = X_test[dependentVariables]\n",
    "\n",
    "X_train_3 = X_train[dependentVariables]"
   ]
  },
  {
   "cell_type": "code",
   "execution_count": 73,
   "metadata": {
    "collapsed": false
   },
   "outputs": [
    {
     "name": "stdout",
     "output_type": "stream",
     "text": [
      "______________________START OF LINEAR REGRESSION____________________\n",
      "R-squared error : 0.347411841659\n",
      "MEAN ABSOLUTE ERROR  : 3.10361021729\n",
      "MEAN SQUARED ERROR : 16.2334811678\n",
      "MEDIAN ABSOLUTE ERROR : 2.51316890167\n",
      "Coefficients are : [ 0.7457982   4.63663345 -1.14218273 -0.93715831 -0.92771464] intercept is : 13.9245902842\n",
      "RMSE : 4.02907944421\n",
      "______________________END OF LINEAR REGRESSION____________________\n"
     ]
    }
   ],
   "source": [
    "# RUN Regression ALGORITHM ...... \n",
    "Linear_Regression(X_train_3,X_test_3, y_train, y_test)"
   ]
  },
  {
   "cell_type": "code",
   "execution_count": 74,
   "metadata": {
    "collapsed": false
   },
   "outputs": [
    {
     "name": "stdout",
     "output_type": "stream",
     "text": [
      "______________________START OF RANDOM FOREST REGRESSOR____________________\n",
      "R-squared error : 0.374454539789\n",
      "MEAN ABSOLUTE ERROR  : 3.04389633349\n",
      "MEAN SQUARED ERROR : 15.717654177\n",
      "MEDIAN ABSOLUTE ERROR : 2.44299691681\n",
      "RMSE : 3.96454968149\n",
      "______________________END OF RANDOM FOREST REGRESSOR____________________\n"
     ]
    }
   ],
   "source": [
    "RandomForestRegressor_(X_train_3,X_test_3, y_train, y_test)"
   ]
  },
  {
   "cell_type": "code",
   "execution_count": 75,
   "metadata": {
    "collapsed": false
   },
   "outputs": [
    {
     "name": "stdout",
     "output_type": "stream",
     "text": [
      "______________________START OF NEURAL NETWORK REGRESSOR____________________\n",
      "R-squared error : 0.364466011689\n",
      "MEAN ABSOLUTE ERROR  : 3.016905023\n",
      "MEAN SQUARED ERROR : 15.7641027837\n",
      "MEDIAN ABSOLUTE ERROR : 2.36633917396\n",
      "RMSE : 3.97040335278\n",
      "______________________END OF Neural Network Regressor____________________\n"
     ]
    }
   ],
   "source": [
    "NeuralNetworkRegressor_(X_train_3,X_test_3, y_train, y_test)"
   ]
  },
  {
   "cell_type": "code",
   "execution_count": 80,
   "metadata": {
    "collapsed": false
   },
   "outputs": [],
   "source": [
    "dependentVariables = ['loan_amnt', 'term', 'emp_length', 'home_ownership',\n",
    "       'annual_inc', 'verification_status', 'purpose', 'addr_state', 'dti',\n",
    "       'delinq_2yrs', 'fico_range_low', 'fico_range_high',\n",
    "       'inq_last_6mths', 'open_acc', 'pub_rec', 'revol_bal', 'revol_util',\n",
    "       'total_acc', 'initial_list_status', 'acc_now_delinq', 'open_acc_6m',\n",
    "       'open_il_6m', 'open_il_12m', 'open_il_24m', 'mths_since_rcnt_il',\n",
    "       'total_bal_il', 'open_rv_12m', 'open_rv_24m', 'max_bal_bc',\n",
    "       'all_util', 'total_rev_hi_lim', 'inq_fi', 'total_cu_tl',\n",
    "       'inq_last_12m', 'acc_open_past_24mths', 'avg_cur_bal',\n",
    "       'bc_open_to_buy', 'bc_util', 'chargeoff_within_12_mths',\n",
    "       'delinq_amnt', 'mo_sin_old_il_acct', 'mo_sin_old_rev_tl_op',\n",
    "       'mo_sin_rcnt_rev_tl_op', 'mo_sin_rcnt_tl', 'mort_acc',\n",
    "       'mths_since_recent_bc', 'num_accts_ever_120_pd', 'num_actv_bc_tl',\n",
    "       'num_actv_rev_tl', 'num_bc_sats', 'num_bc_tl', 'num_il_tl',\n",
    "       'num_op_rev_tl', 'num_rev_accts', 'num_rev_tl_bal_gt_0', 'num_sats',\n",
    "       'num_tl_120dpd_2m', 'num_tl_30dpd', 'num_tl_90g_dpd_24m',\n",
    "       'num_tl_op_past_12m', 'pct_tl_nvr_dlq', 'percent_bc_gt_75',\n",
    "       'pub_rec_bankruptcies', 'tax_liens', 'tot_hi_cred_lim',\n",
    "       'total_bal_ex_mort', 'total_bc_limit', 'total_il_high_credit_limit',\n",
    "       'outlier_flag']\n",
    "\n",
    "X_train_all = trainData[dependentVariables]\n",
    "X_test_all = testData[dependentVariables]"
   ]
  },
  {
   "cell_type": "code",
   "execution_count": 81,
   "metadata": {
    "collapsed": false
   },
   "outputs": [
    {
     "name": "stdout",
     "output_type": "stream",
     "text": [
      "______________________START OF LINEAR REGRESSION____________________\n",
      "R-squared error : 0.497506538975\n",
      "MEAN ABSOLUTE ERROR  : 2.71131705296\n",
      "MEAN SQUARED ERROR : 12.4950161148\n",
      "MEDIAN ABSOLUTE ERROR : 2.20770104472\n",
      "Coefficients are : [  1.19108523e-04   4.90552746e+00  -5.45023832e-03   2.13670256e-01\n",
      "  -1.76879138e-05   2.09005120e-01   1.59771753e-01  -3.31288149e-03\n",
      "   7.28525922e-02   1.81409029e-01  -1.51146618e-02  -1.51146618e-02\n",
      "   6.28994556e-01  -3.01586058e-01  -1.23459388e-02   1.91187962e-06\n",
      "   8.87849902e-03  -1.81858055e-02   1.23116509e+00  -3.14395472e-02\n",
      "   5.39492802e-02   1.56279395e-02   3.90516126e-01   9.52365248e-02\n",
      "   4.13443120e-03   5.13524128e-07   9.37127338e-02   8.40316748e-02\n",
      "  -7.04311179e-05   1.28697401e-02  -1.22851360e-05   6.80045608e-02\n",
      "  -3.46250171e-02   2.94030440e-02   1.54226977e-01  -1.14075737e-05\n",
      "  -5.02886960e-05  -1.10628621e-02  -3.84348091e-02   5.53627688e-05\n",
      "  -3.27333432e-03  -2.63910944e-03  -2.27758049e-03  -1.18262982e-02\n",
      "  -1.16954582e-01  -5.11154213e-03   1.47151638e-02  -4.47844421e-02\n",
      "  -8.97112518e-02   1.30754305e-01  -4.01723105e-02  -2.90104710e-02\n",
      "   4.10967169e-02  -1.28296874e-02   3.55157115e-02   2.16344396e-01\n",
      "   5.87766934e-01   8.43342113e-01  -3.36443731e-02   1.80071368e-02\n",
      "   2.07551216e-05   1.65370529e-02  -9.15002349e-02   1.66513609e-03\n",
      "  -1.32275720e-07   1.55430019e-05   3.14667949e-05  -1.87931059e-05\n",
      "   0.00000000e+00] intercept is : 24.9276968571\n",
      "RMSE : 3.53482900785\n",
      "______________________END OF LINEAR REGRESSION____________________\n"
     ]
    }
   ],
   "source": [
    "Linear_Regression(X_train_all,X_test_all, y_train, y_test)"
   ]
  },
  {
   "cell_type": "code",
   "execution_count": 82,
   "metadata": {
    "collapsed": false
   },
   "outputs": [
    {
     "name": "stdout",
     "output_type": "stream",
     "text": [
      "______________________START OF RANDOM FOREST REGRESSOR____________________\n",
      "R-squared error : 0.938235708504\n",
      "MEAN ABSOLUTE ERROR  : 2.52983712269\n",
      "MEAN SQUARED ERROR : 11.1684023738\n",
      "MEDIAN ABSOLUTE ERROR : 1.99653333333\n",
      "RMSE : 3.34191597347\n",
      "______________________END OF RANDOM FOREST REGRESSOR____________________\n"
     ]
    }
   ],
   "source": [
    "RandomForestRegressor_(X_train_all,X_test_all, y_train, y_test)"
   ]
  },
  {
   "cell_type": "code",
   "execution_count": 83,
   "metadata": {
    "collapsed": false
   },
   "outputs": [
    {
     "name": "stdout",
     "output_type": "stream",
     "text": [
      "______________________START OF NEURAL NETWORK REGRESSOR____________________\n",
      "R-squared error : -526.667108287\n",
      "MEAN ABSOLUTE ERROR  : 75.0050789675\n",
      "MEAN SQUARED ERROR : 12325.0184111\n",
      "MEDIAN ABSOLUTE ERROR : 54.9090153049\n",
      "RMSE : 111.018099475\n",
      "______________________END OF Neural Network Regressor____________________\n"
     ]
    }
   ],
   "source": [
    "NeuralNetworkRegressor_(X_train_all,X_test_all, y_train, y_test)"
   ]
  },
  {
   "cell_type": "code",
   "execution_count": null,
   "metadata": {
    "collapsed": true
   },
   "outputs": [],
   "source": []
  }
 ],
 "metadata": {
  "kernelspec": {
   "display_name": "Python [default]",
   "language": "python",
   "name": "python3"
  },
  "language_info": {
   "codemirror_mode": {
    "name": "ipython",
    "version": 3
   },
   "file_extension": ".py",
   "mimetype": "text/x-python",
   "name": "python",
   "nbconvert_exporter": "python",
   "pygments_lexer": "ipython3",
   "version": "3.5.2"
  }
 },
 "nbformat": 4,
 "nbformat_minor": 2
}
